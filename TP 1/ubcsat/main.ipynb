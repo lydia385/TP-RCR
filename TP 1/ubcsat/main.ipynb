{
 "cells": [
  {
   "cell_type": "code",
   "execution_count": 1,
   "metadata": {},
   "outputs": [],
   "source": [
    "import os\n",
    "import subprocess\n",
    "from sqlalchemy import false"
   ]
  },
  {
   "cell_type": "code",
   "execution_count": 2,
   "metadata": {},
   "outputs": [],
   "source": [
    "def negation_litteral(litterale):\n",
    "    #separe le litterale en plusieurs partie\n",
    "    litterale = litterale.split(\" \")\n",
    "    #entier en enlevant le 0\n",
    "    litterale = [int(i) for i in litterale if i != \"0\"]\n",
    "    #la négation : \n",
    "    litterale = [-i for i in litterale]\n",
    "    negation_litterale = \"\"\n",
    "    for i in litterale:\n",
    "        negation_litterale += \"{} 0\\n\".format(i)\n",
    "    # la negation du litteralee, sa taille, ainsi que son nombre max \n",
    "    return negation_litterale, len(litterale), max([abs(i) for i in litterale])"
   ]
  },
  {
   "cell_type": "code",
   "execution_count": 3,
   "metadata": {},
   "outputs": [],
   "source": [
    "def insertion_litterale(cnf_path_file, litterale):\n",
    "    negation_litterale, nb_lignes, var_max = negation_litteral(litterale)\n",
    "    #initialisation de la base de connaissance \n",
    "    with open(cnf_path_file, 'r') as cnf_file:\n",
    "        BC = cnf_file.read()\n",
    "    #nous traitons le fichier cnf en enlevant tout ce qui est commentaire, \n",
    "    # sauts de lignes, ou meme espacement\n",
    "    BC = BC.split(\"\\n\")\n",
    "    i = 0\n",
    "    while (BC[i] == \"\" or BC[i][0] != \"p\"):\n",
    "        i+=1\n",
    "    BC[i].replace(\"\\t\", \" \")\n",
    "\n",
    "    #réajouter les clauses apres le traitement !\n",
    "    f1, f2, var_nb, nb_clause = [f for f in BC[i].split(\" \") if f!=\"\"]\n",
    "    nb_clause, var_nb = (int(nb_clause), int(var_nb))\n",
    "    nb_clause += nb_lignes\n",
    "    #test de nombre des clauses dans le fichier\n",
    "    if var_max > var_nb:\n",
    "        var_nb = var_max\n",
    "\n",
    "    BC[i] = \" \".join([f1, f2, str(var_nb), str(nb_clause)])\n",
    "    BC = \"\\n\".join(BC)\n",
    "    if BC[-1] != '\\n':\n",
    "        BC += '\\n'\n",
    "    #ajout de la negation du litterale \n",
    "    BC += negation_litterale\n",
    "    temp_BC = os.path.basename(cnf_path_file)[:-4] + \"_temporary.cnf\"\n",
    "    with open(temp_BC, 'w') as temporary_cnf:\n",
    "        temporary_cnf.write(BC)"
   ]
  },
  {
   "cell_type": "code",
   "execution_count": 4,
   "metadata": {},
   "outputs": [],
   "source": [
    "def solver(cnf_path_file):\n",
    "    return subprocess.call(\"ubcsat \"+ \"-alg \" +  \"saps \" + \"-i \" + f\"{cnf_path_file} \" + \"-solve\", shell=True)"
   ]
  },
  {
   "cell_type": "code",
   "execution_count": 5,
   "metadata": {},
   "outputs": [],
   "source": [
    "def satisfiable(cnf_path_file):    \n",
    "    solvable=solver(cnf_path_file)\n",
    "    if(solvable==0):\n",
    "        return True\n",
    "    return False"
   ]
  },
  {
   "cell_type": "code",
   "execution_count": 6,
   "metadata": {},
   "outputs": [],
   "source": [
    "def algorithme(cnf_path_file,litterale):\n",
    "    if satisfiable(cnf_path_file):\n",
    "        insertion_litterale(cnf_path_file, litterale)\n",
    "        temp_BC = os.path.basename(cnf_path_file)[:-4] + \"_temporraire.cnf\"\n",
    "        #test de la satisfiabilite\n",
    "        if satisfiable(temp_BC):\n",
    "            print(\"la base de connaissance {} infére le litterale {}\".format(os.path.basename(cnf_path_file), litterale))\n",
    "        else:\n",
    "            print(\"la base de connaissance {} n'infére pas le litterale {}\".format(os.path.basename(cnf_path_file), litterale))\n",
    "    else: \n",
    "        raise ValueError(\"veuillez introduire une Base de Connaissance satisfiable svp !\")"
   ]
  },
  {
   "cell_type": "code",
   "execution_count": 7,
   "metadata": {},
   "outputs": [
    {
     "name": "stdout",
     "output_type": "stream",
     "text": [
      "la base de connaissance sample.cnf n'infére pas le litterale -4 6 2 0\n"
     ]
    }
   ],
   "source": [
    "os.chdir('../ubcsat')\n",
    "os.system(\"start cmd /K py <ubcsat> –V <variant string> -p <ubcsat>\")\n",
    "algorithme(\"sample.cnf\",\"-4 6 2 0\")\n"
   ]
  }
 ],
 "metadata": {
  "kernelspec": {
   "display_name": "Python 3",
   "language": "python",
   "name": "python3"
  },
  "language_info": {
   "codemirror_mode": {
    "name": "ipython",
    "version": 3
   },
   "file_extension": ".py",
   "mimetype": "text/x-python",
   "name": "python",
   "nbconvert_exporter": "python",
   "pygments_lexer": "ipython3",
   "version": "3.11.2"
  }
 },
 "nbformat": 4,
 "nbformat_minor": 2
}
