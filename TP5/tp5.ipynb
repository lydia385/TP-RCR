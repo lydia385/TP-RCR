{
 "cells": [
  {
   "cell_type": "code",
   "execution_count": 1,
   "metadata": {},
   "outputs": [],
   "source": [
    "from MassFunction import MassFunction"
   ]
  },
  {
   "cell_type": "markdown",
   "metadata": {},
   "source": [
    "Exercice 3"
   ]
  },
  {
   "cell_type": "code",
   "execution_count": 20,
   "metadata": {},
   "outputs": [
    {
     "name": "stdout",
     "output_type": "stream",
     "text": [
      "Expert 1\n",
      "m_4 =  {set():0.4; {'S'}:0.3; {'T'}:0.3}\n",
      "Expert 2\n",
      "m_5 =  {{'S'}:0.5; set():0.3; {'R'}:0.2}\n"
     ]
    }
   ],
   "source": [
    "# Define Mass Functions for each expert\n",
    "\n",
    "#Spectral:S , Texture:T,Structure:R\n",
    "print(\"Expert 1\")\n",
    "m4 = MassFunction({'S': 0.3, 'T': 0.3, '': 0.4})\n",
    "print(\"m_4 = \", m4)\n",
    "\n",
    "print(\"Expert 2\")\n",
    "m5 = MassFunction({'R': 0.2, 'S': 0.5, '': 0.3})\n",
    "print(\"m_5 = \", m5)\n"
   ]
  },
  {
   "cell_type": "code",
   "execution_count": 21,
   "metadata": {},
   "outputs": [
    {
     "name": "stdout",
     "output_type": "stream",
     "text": [
      "\n",
      "Combined Mass Function for Image Classification:\n",
      "Combined Mass Function = {{'S'}:1.0}\n"
     ]
    }
   ],
   "source": [
    "combined_mass_images = m4 & m5\n",
    "print(\"\\nCombined Mass Function for Image Classification:\")\n",
    "print(\"Combined Mass Function =\", combined_mass_images)"
   ]
  },
  {
   "cell_type": "code",
   "execution_count": 23,
   "metadata": {},
   "outputs": [
    {
     "name": "stdout",
     "output_type": "stream",
     "text": [
      "Croyance et possibilité pour l'expert 1\n",
      "bel_1(S) =  0.3\n",
      "pl_1(S) =  0.3\n",
      "Dis1(S) =  0.7\n",
      "bel_1(T) =  0.3\n",
      "pl_1(T) =  0.3\n",
      "Dis1(T) =  0.7\n",
      "bel_1(S) =  0.0\n",
      "pl_1(S) =  0.0\n",
      "Dis1(S) =  1.0\n"
     ]
    }
   ],
   "source": [
    "#affichage de croyance et plausibilité pour chaque expert\n",
    "print(\"Croyance et possibilité pour l'expert 1\")\n",
    "\n",
    "print(\"bel_1(S) = \", m4.bel({'S'}))\n",
    "print(\"pl_1(S) = \", m4.pl({'S'}))\n",
    "print(\"Dis1(S) = \",1- m4.pl({'S'}))\n",
    "\n",
    "print(\"bel_1(T) = \", m4.bel({'T'}))\n",
    "print(\"pl_1(T) = \", m4.pl({'T'}))\n",
    "print(\"Dis1(T) = \",1- m4.pl({'T'}))\n",
    "\n",
    "print(\"bel_1(S) = \", m4.bel({'R'}))\n",
    "print(\"pl_1(S) = \", m4.pl({'R'}))\n",
    "print(\"Dis1(S) = \",1- m4.pl({'R'}))"
   ]
  },
  {
   "cell_type": "code",
   "execution_count": 24,
   "metadata": {},
   "outputs": [
    {
     "name": "stdout",
     "output_type": "stream",
     "text": [
      "Croyance et possibilité pour l'expert 2\n",
      "bel_1(S) =  0.5\n",
      "pl_1(S) =  0.5\n",
      "Dis1(S) =  0.5\n",
      "bel_1(T) =  0.0\n",
      "pl_1(T) =  0.0\n",
      "Dis1(T) =  1.0\n",
      "bel_1(S) =  0.2\n",
      "pl_1(S) =  0.2\n",
      "Dis1(S) =  0.8\n"
     ]
    }
   ],
   "source": [
    "#affichage de croyance et plausibilité pour chaque expert\n",
    "print(\"Croyance et possibilité pour l'expert 2\")\n",
    "\n",
    "print(\"bel_1(S) = \", m5.bel({'S'}))\n",
    "print(\"pl_1(S) = \", m5.pl({'S'}))\n",
    "print(\"Dis1(S) = \",1- m5.pl({'S'}))\n",
    "\n",
    "print(\"bel_1(T) = \", m5.bel({'T'}))\n",
    "print(\"pl_1(T) = \", m5.pl({'T'}))\n",
    "print(\"Dis1(T) = \",1- m5.pl({'T'}))\n",
    "\n",
    "print(\"bel_1(S) = \", m5.bel({'R'}))\n",
    "print(\"pl_1(S) = \", m5.pl({'R'}))\n",
    "print(\"Dis1(S) = \",1- m5.pl({'R'}))"
   ]
  },
  {
   "cell_type": "markdown",
   "metadata": {},
   "source": [
    "Exercice 4"
   ]
  },
  {
   "cell_type": "code",
   "execution_count": 8,
   "metadata": {},
   "outputs": [
    {
     "name": "stdout",
     "output_type": "stream",
     "text": [
      "Expert 1\n",
      "m_1 =  {{'T'}:0.55; {'A'}:0.38; set():0.07}\n",
      "Expert 2\n",
      "m_2 =  {{'S'}:0.88; set():0.12}\n",
      "Expert 3\n",
      "m_3 =  {{'A'}:0.33; {'T'}:0.33; {'S'}:0.33}\n"
     ]
    }
   ],
   "source": [
    "# affichage des masses pour chaque expert\n",
    "\n",
    "print(\"Expert 1\")\n",
    "m1 = MassFunction({'A':0.38,'T':0.55,'':0.07})\n",
    "print(\"m_1 = \", m1)\n",
    "\n",
    "print(\"Expert 2\")\n",
    "m2 = MassFunction({'S':0.88,'':0.12})\n",
    "print(\"m_2 = \", m2)\n",
    "\n",
    "print(\"Expert 3\")\n",
    "m3 = MassFunction({'A': 0.33, 'T': 0.33, 'S': 0.33})\n",
    "print(\"m_3 = \", m3)\n"
   ]
  },
  {
   "cell_type": "code",
   "execution_count": 12,
   "metadata": {},
   "outputs": [
    {
     "name": "stdout",
     "output_type": "stream",
     "text": [
      "Croyance et possibilité pour l'expert 1\n",
      "bel_1(A) =  0.38\n",
      "pl_1(A) =  0.38\n",
      "Dis1(A) =  0.62\n",
      "bel_1(T) =  0.55\n",
      "pl_1(T) =  0.55\n",
      "Dis1(T) =  0.44999999999999996\n",
      "bel_1(S) =  0.0\n",
      "pl_1(S) =  0.0\n",
      "Dis1(S) =  1.0\n"
     ]
    }
   ],
   "source": [
    "#affichage de croyance et plausibilité pour chaque expert\n",
    "print(\"Croyance et possibilité pour l'expert 1\")\n",
    "\n",
    "print(\"bel_1(A) = \", m1.bel({'A'}))\n",
    "print(\"pl_1(A) = \", m1.pl({'A'}))\n",
    "print(\"Dis1(A) = \",1- m1.pl({'A'}))\n",
    "\n",
    "print(\"bel_1(T) = \", m1.bel({'T'}))\n",
    "print(\"pl_1(T) = \", m1.pl({'T'}))\n",
    "print(\"Dis1(T) = \",1- m1.pl({'T'}))\n",
    "\n",
    "print(\"bel_1(S) = \", m1.bel({'S'}))\n",
    "print(\"pl_1(S) = \", m1.pl({'S'}))\n",
    "print(\"Dis1(S) = \",1- m1.pl({'S'}))"
   ]
  },
  {
   "cell_type": "code",
   "execution_count": 13,
   "metadata": {},
   "outputs": [
    {
     "name": "stdout",
     "output_type": "stream",
     "text": [
      "Croyance et possibilité pour l'expert 1\n",
      "bel_1(A) =  0.0\n",
      "pl_1(A) =  0.0\n",
      "Dis1(A) =  1.0\n",
      "bel_1(T) =  0.0\n",
      "pl_1(T) =  0.0\n",
      "Dis1(T) =  1.0\n",
      "bel_1(S) =  0.88\n",
      "pl_1(S) =  0.88\n",
      "Dis1(S) =  0.12\n"
     ]
    }
   ],
   "source": [
    "#affichage de croyance et plausibilité pour chaque expert\n",
    "print(\"Croyance et possibilité pour l'expert 2\")\n",
    "\n",
    "print(\"bel_1(A) = \", m2.bel({'A'}))\n",
    "print(\"pl_1(A) = \", m2.pl({'A'}))\n",
    "print(\"Dis1(A) = \",1- m2.pl({'A'}))\n",
    "\n",
    "print(\"bel_1(T) = \", m2.bel({'T'}))\n",
    "print(\"pl_1(T) = \", m2.pl({'T'}))\n",
    "print(\"Dis1(T) = \",1- m2.pl({'T'}))\n",
    "\n",
    "print(\"bel_1(S) = \", m2.bel({'S'}))\n",
    "print(\"pl_1(S) = \", m2.pl({'S'}))\n",
    "print(\"Dis1(S) = \",1- m2.pl({'S'}))"
   ]
  },
  {
   "cell_type": "code",
   "execution_count": 14,
   "metadata": {},
   "outputs": [
    {
     "name": "stdout",
     "output_type": "stream",
     "text": [
      "Croyance et possibilité pour l'expert 1\n",
      "bel_1(A) =  0.33\n",
      "pl_1(A) =  0.33\n",
      "Dis1(A) =  0.6699999999999999\n",
      "bel_1(T) =  0.33\n",
      "pl_1(T) =  0.33\n",
      "Dis1(T) =  0.6699999999999999\n",
      "bel_1(S) =  0.33\n",
      "pl_1(S) =  0.33\n",
      "Dis1(S) =  0.6699999999999999\n"
     ]
    }
   ],
   "source": [
    "#affichage de croyance et plausibilité pour chaque expert\n",
    "print(\"Croyance et possibilité pour l'expert 3\")\n",
    "\n",
    "print(\"bel_1(A) = \", m3.bel({'A'}))\n",
    "print(\"pl_1(A) = \", m3.pl({'A'}))\n",
    "print(\"Dis1(A) = \",1- m3.pl({'A'}))\n",
    "\n",
    "print(\"bel_1(T) = \", m3.bel({'T'}))\n",
    "print(\"pl_1(T) = \", m3.pl({'T'}))\n",
    "print(\"Dis1(T) = \",1- m3.pl({'T'}))\n",
    "\n",
    "print(\"bel_1(S) = \", m3.bel({'S'}))\n",
    "print(\"pl_1(S) = \", m3.pl({'S'}))\n",
    "print(\"Dis1(S) = \",1- m3.pl({'S'}))"
   ]
  },
  {
   "cell_type": "code",
   "execution_count": 15,
   "metadata": {},
   "outputs": [
    {
     "name": "stdout",
     "output_type": "stream",
     "text": [
      "Dempster-Shafer Combinaison rule\n",
      "Dempster-Shafer Combinaison rule for m_1 and m_2 =  {}\n",
      "Dempster-Shafer Combinaison rule for m_2 and m_3 =  {{'S'}:1.0}\n",
      "Dempster-Shafer Combinaison rule for m_1 and m_3 =  {{'T'}:0.5913978494623655; {'A'}:0.4086021505376344}\n",
      "Dempster-Shafer Combinaison rule for m_1, m_2 and m_3 =  {}\n",
      "Dempster-Shafer Combinaison rule for m_2, m_1 and m_3 =  {}\n",
      "Dempster-Shafer Combinaison rule for m_3, m_1 and m_2 =  {{'T'}:0.5913978494623655; {'A'}:0.4086021505376344}\n"
     ]
    }
   ],
   "source": [
    "#combinaisons des masses par fusion de Dempster-Shafer\n",
    "print(\"Dempster-Shafer Combinaison rule\")\n",
    "print(\"Dempster-Shafer Combinaison rule for m_1 and m_2 = \", m1 & m2)\n",
    "print(\"Dempster-Shafer Combinaison rule for m_2 and m_3 = \", m2 & m3)\n",
    "print(\"Dempster-Shafer Combinaison rule for m_1 and m_3 = \", m1 & m3)\n",
    "\n",
    "print(\"Dempster-Shafer Combinaison rule for m_1, m_2 and m_3 = \", m1.combine_conjunctive(m2, m3))\n",
    "print(\"Dempster-Shafer Combinaison rule for m_2, m_1 and m_3 = \", m2.combine_conjunctive(m1, m3))\n",
    "print(\"Dempster-Shafer Combinaison rule for m_3, m_1 and m_2 = \", m3.combine_conjunctive(m1, m2))"
   ]
  }
 ],
 "metadata": {
  "kernelspec": {
   "display_name": "Python 3",
   "language": "python",
   "name": "python3"
  },
  "language_info": {
   "codemirror_mode": {
    "name": "ipython",
    "version": 3
   },
   "file_extension": ".py",
   "mimetype": "text/x-python",
   "name": "python",
   "nbconvert_exporter": "python",
   "pygments_lexer": "ipython3",
   "version": "3.11.2"
  }
 },
 "nbformat": 4,
 "nbformat_minor": 2
}
